{
 "cells": [
  {
   "cell_type": "markdown",
   "metadata": {},
   "source": [
    "# Finding Critical Points with TensorFlow\n",
    "## Part 2 - Critical Points of Neural Networks"
   ]
  },
  {
   "cell_type": "markdown",
   "metadata": {},
   "source": [
    "This section is under construction."
   ]
  },
  {
   "cell_type": "code",
   "execution_count": 1,
   "metadata": {},
   "outputs": [],
   "source": [
    "import tensorflow as tf\n",
    "\n",
    "import numpy as np\n",
    "import matplotlib.pyplot as plt\n",
    "%matplotlib inline\n",
    "\n",
    "from collections import namedtuple\n",
    "\n",
    "import utils"
   ]
  },
  {
   "cell_type": "code",
   "execution_count": 3,
   "metadata": {},
   "outputs": [],
   "source": [
    "config = tf.ConfigProto()\n",
    "config.gpu_options.allow_growth = True\n",
    "config.gpu_options.per_process_gpu_memory_fraction = 0.4"
   ]
  },
  {
   "cell_type": "markdown",
   "metadata": {},
   "source": [
    "The tricky part here is specifying the parameters: in order to calculate a Hessian, we need the parameters to be inside the same variable, but TensorFlow is not designed with the expectation that all of our weights need to be initialized at once. In addition, this makes keeping abstraction barriers up more difficult."
   ]
  },
  {
   "cell_type": "code",
   "execution_count": 4,
   "metadata": {},
   "outputs": [
    {
     "name": "stdout",
     "output_type": "stream",
     "text": [
      "Extracting MNIST_data/train-images-idx3-ubyte.gz\n",
      "Extracting MNIST_data/train-labels-idx1-ubyte.gz\n",
      "Extracting MNIST_data/t10k-images-idx3-ubyte.gz\n",
      "Extracting MNIST_data/t10k-labels-idx1-ubyte.gz\n"
     ]
    }
   ],
   "source": [
    "from tensorflow.examples.tutorials.mnist import input_data\n",
    "mnist = input_data.read_data_sets('MNIST_data', one_hot=True)"
   ]
  },
  {
   "cell_type": "markdown",
   "metadata": {},
   "source": [
    "The biggest practical issue is handling the non-invertibility of the Hessian and related numerical issues in the Newton method. Seems like it requires fairly careful tuning of the step size, or else it can cause the performance to drop and/or the (raw) gradients to blow up.\n",
    "\n",
    "Need to look into trust region methods more closely for intuition about how to set this."
   ]
  },
  {
   "cell_type": "markdown",
   "metadata": {},
   "source": [
    "Tested with batch size 50k -- doesn't seem to be an error in estimating the Hessian."
   ]
  },
  {
   "cell_type": "markdown",
   "metadata": {},
   "source": [
    "01-24-2018 - Added pseudo-inverse based on Jesse's code. Gradient norm now goes down a bit and doesn't increase substantially, but it's not as small as I'd like."
   ]
  },
  {
   "cell_type": "markdown",
   "metadata": {},
   "source": [
    "Note - if cost function is piecewise linear in the parameters, then gradient norm need not go to zero."
   ]
  },
  {
   "cell_type": "markdown",
   "metadata": {},
   "source": [
    "The gradient norm also won't go to zero if you're circling a critical point -- which might happen if your step size is too large."
   ]
  },
  {
   "cell_type": "code",
   "execution_count": 11,
   "metadata": {},
   "outputs": [],
   "source": [
    "fudged_hess_hyperparameters = {\"layer_sizes\":[10],\n",
    "                            \"nonlinearity\":tf.nn.relu,\n",
    "                            \"input_size\":784,\n",
    "                            \"output_size\":10,\n",
    "                             \"learning_rate\":0.01,\n",
    "                             \"newton_rate\":5e-5,\n",
    "                             \"fudge_factor\":1e-8,\n",
    "                             \"inverse_method\": \"fudged\"\n",
    "                            }\n",
    "\n",
    "pseudo_inverse_hyperparameters = {\"layer_sizes\":[10],\n",
    "                            \"nonlinearity\":tf.nn.relu,\n",
    "                            \"input_size\":784,\n",
    "                            \"output_size\":10,\n",
    "                             \"learning_rate\":0.01,\n",
    "                             \"newton_rate\":1e-3,\n",
    "                             \"minimum_eigenvalue_magnitude\":1e-1,\n",
    "                             \"inverse_method\": \"pseudo\"\n",
    "                            }\n",
    "\n",
    "gradmin_hyperparameters = {\"layer_sizes\":[10],\n",
    "                            \"nonlinearity\":tf.nn.relu,\n",
    "                            \"input_size\":784,\n",
    "                            \"output_size\":10,\n",
    "                            \"learning_rate\":0.01,\n",
    "                            \"newton_rate\":1e-3,\n",
    "                            \"grad_norm_learning_rate\":1e-3,\n",
    "                            \"minimum_eigenvalue_magnitude\":1e-1,\n",
    "                            \"inverse_method\": \"pseudo\"\n",
    "                            }"
   ]
  },
  {
   "cell_type": "code",
   "execution_count": 6,
   "metadata": {},
   "outputs": [],
   "source": [
    "# %pdb on"
   ]
  },
  {
   "cell_type": "code",
   "execution_count": 12,
   "metadata": {},
   "outputs": [],
   "source": [
    "network = utils.make_neural_network(gradmin_hyperparameters)"
   ]
  },
  {
   "cell_type": "code",
   "execution_count": 13,
   "metadata": {},
   "outputs": [],
   "source": [
    "graph = network.graph\n",
    "graph_dict = network.graph_dictionary\n",
    "hyperparameter_dictionary = network.hyperparameter_dictionary\n",
    "num_parameters = hyperparameter_dictionary[\"num_parameters\"]\n",
    "total_weights = hyperparameter_dictionary[\"total_weights\"]\n",
    "total_biases = hyperparameter_dictionary[\"total_biases\"]\n",
    "initialized_parameters = np.hstack([0.1*np.random.standard_normal(size=total_weights),\n",
    "                                  [0.1]*total_biases]).astype(np.float32)"
   ]
  },
  {
   "cell_type": "code",
   "execution_count": 14,
   "metadata": {
    "scrolled": false
   },
   "outputs": [
    {
     "name": "stdout",
     "output_type": "stream",
     "text": [
      "init values\n",
      "\tcost: 2.32\n",
      "\tgrad_norm: 0.3065016866\n",
      "\tgrad_max: 0.0630831942\n",
      "grad step: 1\n",
      "\tcost: 2.31\n",
      "\tgrad_norm: 0.3060857952\n",
      "\tgrad_max: 0.0633272827\n",
      "grad step: 500\n",
      "\tcost: 1.77\n",
      "\tgrad_norm: 0.3548561037\n",
      "\tgrad_max: 0.0682427436\n",
      "grad step: 1000\n",
      "\tcost: 1.24\n",
      "\tgrad_norm: 0.2819641232\n",
      "\tgrad_max: 0.0494325310\n",
      "grad step: 1500\n",
      "\tcost: 0.95\n",
      "\tgrad_norm: 0.2064587623\n",
      "\tgrad_max: 0.0389420427\n",
      "grad step: 2000\n",
      "\tcost: 0.79\n",
      "\tgrad_norm: 0.1661296636\n",
      "\tgrad_max: 0.0288032088\n",
      "grad step: 2500\n",
      "\tcost: 0.69\n",
      "\tgrad_norm: 0.1359980255\n",
      "\tgrad_max: 0.0227647778\n",
      "grad step: 3000\n",
      "\tcost: 0.62\n",
      "\tgrad_norm: 0.1113386676\n",
      "\tgrad_max: 0.0200484358\n",
      "grad step: 3500\n",
      "\tcost: 0.57\n",
      "\tgrad_norm: 0.0947779939\n",
      "\tgrad_max: 0.0188402943\n",
      "grad step: 4000\n",
      "\tcost: 0.53\n",
      "\tgrad_norm: 0.0978959575\n",
      "\tgrad_max: 0.0163226146\n",
      "grad step: 4500\n",
      "\tcost: 0.50\n",
      "\tgrad_norm: 0.0860534236\n",
      "\tgrad_max: 0.0160876270\n",
      "grad step: 5000\n",
      "\tcost: 0.48\n",
      "\tgrad_norm: 0.0759807751\n",
      "\tgrad_max: 0.0151067069\n",
      "gradmin step: 500\n",
      "\tcost: 0.48\n",
      "\tgrad_norm: 0.0669642836\n",
      "\tgrad_max: 0.0152299814\n",
      "gradmin step: 1000\n",
      "\tcost: 0.48\n",
      "\tgrad_norm: 0.0669260249\n",
      "\tgrad_max: 0.0139761018\n",
      "gradmin step: 1500\n",
      "\tcost: 0.48\n",
      "\tgrad_norm: 0.0672487617\n",
      "\tgrad_max: 0.0149996951\n",
      "gradmin step: 2000\n",
      "\tcost: 0.48\n",
      "\tgrad_norm: 0.0667455643\n",
      "\tgrad_max: 0.0146475490\n",
      "gradmin step: 2500\n",
      "\tcost: 0.48\n",
      "\tgrad_norm: 0.0663826838\n",
      "\tgrad_max: 0.0146403853\n",
      "gradmin step: 3000\n",
      "\tcost: 0.48\n",
      "\tgrad_norm: 0.0656835437\n",
      "\tgrad_max: 0.0143317124\n",
      "gradmin step: 3500\n",
      "\tcost: 0.48\n",
      "\tgrad_norm: 0.0664594024\n",
      "\tgrad_max: 0.0147984894\n",
      "gradmin step: 4000\n",
      "\tcost: 0.48\n",
      "\tgrad_norm: 0.0678128824\n",
      "\tgrad_max: 0.0145903723\n",
      "gradmin step: 4500\n",
      "\tcost: 0.48\n",
      "\tgrad_norm: 0.0679343417\n",
      "\tgrad_max: 0.0143431704\n",
      "gradmin step: 5000\n",
      "\tcost: 0.48\n",
      "\tgrad_norm: 0.0665578097\n",
      "\tgrad_max: 0.0142307170\n",
      "gradmin step: 5500\n",
      "\tcost: 0.48\n",
      "\tgrad_norm: 0.0652749091\n",
      "\tgrad_max: 0.0142104253\n",
      "gradmin step: 6000\n",
      "\tcost: 0.48\n",
      "\tgrad_norm: 0.0659323111\n",
      "\tgrad_max: 0.0147230234\n",
      "gradmin step: 6500\n",
      "\tcost: 0.48\n",
      "\tgrad_norm: 0.0667034015\n",
      "\tgrad_max: 0.0140595622\n",
      "gradmin step: 7000\n",
      "\tcost: 0.48\n",
      "\tgrad_norm: 0.0682900622\n",
      "\tgrad_max: 0.0147669436\n",
      "gradmin step: 7500\n",
      "\tcost: 0.48\n",
      "\tgrad_norm: 0.0666648149\n",
      "\tgrad_max: 0.0146263028\n",
      "gradmin step: 8000\n",
      "\tcost: 0.48\n",
      "\tgrad_norm: 0.0659764037\n",
      "\tgrad_max: 0.0146157304\n",
      "gradmin step: 8500\n",
      "\tcost: 0.48\n",
      "\tgrad_norm: 0.0653084964\n",
      "\tgrad_max: 0.0144631099\n",
      "gradmin step: 9000\n",
      "\tcost: 0.48\n",
      "\tgrad_norm: 0.0655048043\n",
      "\tgrad_max: 0.0148435943\n",
      "gradmin step: 9500\n",
      "\tcost: 0.48\n",
      "\tgrad_norm: 0.0664982945\n",
      "\tgrad_max: 0.0136119397\n",
      "gradmin step: 10000\n",
      "\tcost: 0.48\n",
      "\tgrad_norm: 0.0668515041\n",
      "\tgrad_max: 0.0148292361\n"
     ]
    }
   ],
   "source": [
    "num_batches_init = 5000\n",
    "num_gradmin_steps = 10000\n",
    "\n",
    "gradient_descent_batch_size = 50\n",
    "tracking_batch_size = 50000\n",
    "gradmin_batch_size = 10000\n",
    "\n",
    "with graph.as_default():\n",
    "    sess = tf.InteractiveSession()\n",
    "    input = graph_dict[\"input\"]\n",
    "    labels = graph_dict[\"labels\"]\n",
    "    initial_parameters = graph_dict[\"parameters_placeholder\"]\n",
    "    trained_parameters = graph_dict[\"parameters\"]\n",
    "    step_gradient_descent = graph_dict[\"step_gradient_descent\"]\n",
    "    step_newton = graph_dict[\"step_newton\"]\n",
    "    step_gradmin = graph_dict[\"step_gradmin\"]\n",
    "    accuracy = graph_dict[\"accuracy\"]\n",
    "    cost = graph_dict[\"cost\"]\n",
    "    gradient_op = graph_dict[\"gradients\"]\n",
    "    \n",
    "    initializer_feed_dict = {initial_parameters: initialized_parameters}\n",
    "    tf.global_variables_initializer().run(initializer_feed_dict)    \n",
    "    \n",
    "    for batch_idx in range(num_batches_init):\n",
    "        \n",
    "        if (batch_idx+1 == 1):\n",
    "            \n",
    "            batch_inputs, batch_labels = mnist.train.next_batch(tracking_batch_size)\n",
    "            train_feed_dict = {input: batch_inputs,\n",
    "                       labels: batch_labels}\n",
    "            \n",
    "            current_cost = sess.run(cost, feed_dict=train_feed_dict)\n",
    "            init_gradients = sess.run(gradient_op, feed_dict=train_feed_dict)\n",
    "            gradient_norm = np.linalg.norm(init_gradients)\n",
    "            \n",
    "            print(\"init values\")\n",
    "            print(\"\\tcost: {0:.2f}\".format(current_cost))\n",
    "            print(\"\\tgrad_norm: {0:.10f}\".format(gradient_norm))\n",
    "            \n",
    "            gradient_max = np.max(np.abs(init_gradients))\n",
    "            gradient_min = np.min(np.abs(init_gradients))\n",
    "            print(\"\\tgrad_max: {0:.10f}\".format(gradient_max))\n",
    "            \n",
    "        batch_inputs, batch_labels = mnist.train.next_batch(gradient_descent_batch_size)\n",
    "        train_feed_dict = {input: batch_inputs,\n",
    "                       labels: batch_labels}\n",
    "        \n",
    "        sess.run(step_gradient_descent, feed_dict=train_feed_dict)\n",
    "\n",
    "        if (batch_idx+1 == 1) or ((batch_idx+1)%500 == 0):\n",
    "            \n",
    "            batch_inputs, batch_labels = mnist.train.next_batch(tracking_batch_size)\n",
    "            train_feed_dict = {input: batch_inputs,\n",
    "                       labels: batch_labels}\n",
    "            \n",
    "            current_cost = sess.run(cost, feed_dict=train_feed_dict)\n",
    "        \n",
    "            gradients = sess.run(gradient_op, feed_dict=train_feed_dict)\n",
    "            gradient_norm = gradient_norm = np.linalg.norm(gradients)\n",
    "\n",
    "            gradient_max = np.max(np.abs(gradients))\n",
    "            gradient_min = np.min(np.abs(gradients))\n",
    "            \n",
    "            print(\"grad step: {0}\".format(batch_idx+1))\n",
    "            print(\"\\tcost: {0:.2f}\".format(current_cost))\n",
    "            print(\"\\tgrad_norm: {0:.10f}\".format(gradient_norm))\n",
    "            \n",
    "            gradient_max = np.max(np.abs(gradients))\n",
    "            print(\"\\tgrad_max: {0:.10f}\".format(gradient_max))\n",
    "        \n",
    "    for batch_idx in range(num_gradmin_steps):\n",
    "        \n",
    "        batch_inputs, batch_labels = mnist.train.next_batch(gradmin_batch_size)\n",
    "        train_feed_dict = {input: batch_inputs,\n",
    "                       labels: batch_labels}\n",
    "        \n",
    "        sess.run(step_gradmin, feed_dict=train_feed_dict)\n",
    "        \n",
    "        if (batch_idx+1)%500 == 0:\n",
    "            \n",
    "            batch_inputs, batch_labels = mnist.train.next_batch(tracking_batch_size)\n",
    "            train_feed_dict = {input: batch_inputs,\n",
    "                       labels: batch_labels}\n",
    "            \n",
    "            print(\"gradmin step: {0}\".format(batch_idx+1))\n",
    "            current_cost = sess.run(cost, feed_dict=train_feed_dict)\n",
    "            print(\"\\tcost: {0:.2f}\".format(current_cost))\n",
    "            gradients = sess.run(gradient_op, feed_dict=train_feed_dict)\n",
    "            gradient_norm = np.linalg.norm(gradients)\n",
    "            print(\"\\tgrad_norm: {0:.10f}\".format(gradient_norm))\n",
    "            gradient_max = np.max(np.abs(gradients))\n",
    "            print(\"\\tgrad_max: {0:.10f}\".format(gradient_max))\n",
    "        \n",
    "    sess.close()"
   ]
  },
  {
   "cell_type": "markdown",
   "metadata": {},
   "source": [
    "Even with very small steps, we're unable to get grad_norm below `0.049`."
   ]
  },
  {
   "cell_type": "code",
   "execution_count": 13,
   "metadata": {},
   "outputs": [
    {
     "data": {
      "image/png": "[encoded data removed]",
      "text/plain": [
       "<matplotlib.figure.Figure at 0x7fc0fda0e9e8>"
      ]
     },
     "metadata": {},
     "output_type": "display_data"
    }
   ],
   "source": [
    "f, axs = plt.subplots(nrows=2, ncols=1, figsize=(20,18), sharex=True)\n",
    "\n",
    "axs[0].hist(init_gradients, normed=True, bins=100);\n",
    "axs[0].set_title(\"initial gradient\", fontsize=24, fontweight=\"bold\");\n",
    "\n",
    "axs[1].hist(gradients, normed=True, bins=100);\n",
    "axs[1].set_title(\"final gradient\", fontsize=24, fontweight=\"bold\");\n",
    "\n",
    "# axs[2].hist(accumulated_gradient, normed=True, bins=100);\n",
    "# axs[2].set_title(\"accumulated gradient\", fontsize=24, fontweight=\"bold\");"
   ]
  }
 ],
 "metadata": {
  "kernelspec": {
   "display_name": "Python 3",
   "language": "python",
   "name": "python3"
  },
  "language_info": {
   "codemirror_mode": {
    "name": "ipython",
    "version": 3
   },
   "file_extension": ".py",
   "mimetype": "text/x-python",
   "name": "python",
   "nbconvert_exporter": "python",
   "pygments_lexer": "ipython3",
   "version": "3.4.3"
  }
 },
 "nbformat": 4,
 "nbformat_minor": 2
}
