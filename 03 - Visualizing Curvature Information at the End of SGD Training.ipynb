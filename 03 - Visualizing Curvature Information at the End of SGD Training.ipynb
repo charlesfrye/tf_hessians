{
 "cells": [
  {
   "cell_type": "markdown",
   "metadata": {},
   "source": [
    "# Finding Critical Points with TensorFlow\n",
    "## Part 3 - Visualizing Curvature Information at the End of SGD Training"
   ]
  },
  {
   "cell_type": "markdown",
   "metadata": {},
   "source": [
    "This section is under construction."
   ]
  },
  {
   "cell_type": "code",
   "execution_count": 1,
   "metadata": {},
   "outputs": [],
   "source": [
    "import tensorflow as tf\n",
    "\n",
    "import numpy as np\n",
    "import matplotlib.pyplot as plt\n",
    "import matplotlib\n",
    "import seaborn as sns\n",
    "sns.set(style='white')\n",
    "%matplotlib inline\n",
    "\n",
    "from collections import namedtuple\n",
    "\n",
    "import crit_finder"
   ]
  },
  {
   "cell_type": "code",
   "execution_count": 2,
   "metadata": {},
   "outputs": [],
   "source": [
    "config = tf.ConfigProto()\n",
    "config.gpu_options.allow_growth = True\n",
    "config.gpu_options.per_process_gpu_memory_fraction = 0.4"
   ]
  },
  {
   "cell_type": "code",
   "execution_count": 3,
   "metadata": {},
   "outputs": [
    {
     "name": "stdout",
     "output_type": "stream",
     "text": [
      "Extracting MNIST_data/train-images-idx3-ubyte.gz\n",
      "Extracting MNIST_data/train-labels-idx1-ubyte.gz\n",
      "Extracting MNIST_data/t10k-images-idx3-ubyte.gz\n",
      "Extracting MNIST_data/t10k-labels-idx1-ubyte.gz\n"
     ]
    }
   ],
   "source": [
    "from tensorflow.examples.tutorials.mnist import input_data\n",
    "mnist = input_data.read_data_sets('MNIST_data', one_hot=True)"
   ]
  },
  {
   "cell_type": "code",
   "execution_count": 4,
   "metadata": {},
   "outputs": [],
   "source": [
    "Curvature = namedtuple(\"Curvature\",\n",
    "                       [\"hessian\", \"eigenvalues\", \"eigenvectors\"])"
   ]
  },
  {
   "cell_type": "code",
   "execution_count": 113,
   "metadata": {},
   "outputs": [],
   "source": [
    "def compute_spectra(num_runs, mnist, hyperparameters, training_parameters, hessian_calc_batch_size=10000):\n",
    "    \n",
    "    initial_eigvals = []\n",
    "    final_eigvals = []\n",
    "    \n",
    "    network = crit_finder.make_neural_network(hyperparameters)    \n",
    "    \n",
    "    for run_idx in range(num_runs):\n",
    "        initial_parameters = get_initial_parameters(network)\n",
    "        \n",
    "        final_parameters = train_network(network, mnist, initial_parameters, training_parameters)\n",
    "        \n",
    "        initial_curvature = get_hessian_and_eigs(network, mnist, initial_parameters, hessian_calc_batch_size)\n",
    "\n",
    "        final_curvature = get_hessian_and_eigs(network, mnist, final_parameters, hessian_calc_batch_size)\n",
    "        \n",
    "        initial_eigvals.append(initial_curvature.eigenvalues)\n",
    "        final_eigvals.append(final_curvature.eigenvalues)\n",
    "        \n",
    "    return initial_eigvals, final_eigvals\n",
    "\n",
    "def train_network(network, mnist, initial_parameters, training_parameters):\n",
    "    graph = network.graph\n",
    "    graph_dict = network.graph_dictionary\n",
    "    hyperparameter_dictionary = network.hyperparameter_dictionary\n",
    "    \n",
    "    with tf.Session(graph=graph) as sess:\n",
    "        \n",
    "        # collect tensorflow handles from graph_dict\n",
    "        input = graph_dict[\"input\"]\n",
    "        labels = graph_dict[\"labels\"]\n",
    "        parameters_placeholder = graph_dict[\"parameters_placeholder\"]\n",
    "        current_parameters = graph_dict[\"parameters\"]\n",
    "        step_gradient_descent = graph_dict[\"step_gradient_descent\"]\n",
    "        accuracy = graph_dict[\"accuracy\"]\n",
    "        cost = graph_dict[\"cost\"]\n",
    "        gradient_op = graph_dict[\"gradients\"]\n",
    "        \n",
    "        # collect training parameters from training_parameters\n",
    "        num_batches = training_parameters[\"num_batches\"]\n",
    "        print_every = training_parameters[\"print_every\"]\n",
    "        tracking_batch_size = training_parameters[\"tracking_batch_size\"]\n",
    "        gradient_descent_batch_size = training_parameters[\"gradient_descent_batch_size\"]\n",
    "\n",
    "        initializer_feed_dict = {parameters_placeholder: initial_parameters}\n",
    "        tf.global_variables_initializer().run(initializer_feed_dict)    \n",
    "\n",
    "        for batch_idx in range(num_batches):\n",
    "\n",
    "            #report values before taking any steps\n",
    "            if (batch_idx+1 == 1): \n",
    "\n",
    "                batch_inputs, batch_labels = mnist.train.next_batch(tracking_batch_size)\n",
    "                train_feed_dict = {input: batch_inputs,\n",
    "                           labels: batch_labels}\n",
    "\n",
    "                current_cost = sess.run(cost, feed_dict=train_feed_dict)\n",
    "                init_gradients = sess.run(gradient_op, feed_dict=train_feed_dict)\n",
    "                gradient_norm = np.linalg.norm(init_gradients)\n",
    "\n",
    "                print(\"init values\")\n",
    "                print(\"\\tcost: {0:.2f}\".format(current_cost))\n",
    "                print(\"\\tgrad_norm: {0:.10f}\".format(gradient_norm))\n",
    "\n",
    "            batch_inputs, batch_labels = mnist.train.next_batch(gradient_descent_batch_size)\n",
    "            train_feed_dict = {input: batch_inputs,\n",
    "                           labels: batch_labels}\n",
    "            \n",
    "            sess.run(step_gradient_descent, feed_dict=train_feed_dict)\n",
    "            \n",
    "            #report values after 1st step and intermittently\n",
    "            if (batch_idx+1 == 1) or ((batch_idx+1)%print_every == 0): \n",
    "            \n",
    "                batch_inputs, batch_labels = mnist.train.next_batch(tracking_batch_size)\n",
    "                train_feed_dict = {input: batch_inputs,\n",
    "                           labels: batch_labels}\n",
    "\n",
    "                current_cost = sess.run(cost, feed_dict=train_feed_dict)\n",
    "\n",
    "                gradients = sess.run(gradient_op, feed_dict=train_feed_dict)\n",
    "                gradient_norm = gradient_norm = np.linalg.norm(gradients)\n",
    "\n",
    "                print(\"grad step: {0}\".format(batch_idx+1))\n",
    "                print(\"\\tcost: {0:.2f}\".format(current_cost))\n",
    "                print(\"\\tgrad_norm: {0:.10f}\".format(gradient_norm))\n",
    "\n",
    "        final_parameters = sess.run(current_parameters)\n",
    "            \n",
    "    return final_parameters\n",
    "\n",
    "def get_hessian_and_eigs(network, mnist, parameter_values, hessian_calc_batch_size=50000):\n",
    "    graph = network.graph\n",
    "    graph_dict = network.graph_dictionary\n",
    "    \n",
    "    with tf.Session(graph=graph) as sess:\n",
    "\n",
    "        input = graph_dict[\"input\"]\n",
    "        labels = graph_dict[\"labels\"]\n",
    "\n",
    "        initial_parameters = graph_dict[\"parameters_placeholder\"]\n",
    "\n",
    "        hessian = graph_dict[\"hessian\"]\n",
    "        eigenvalues = graph_dict[\"eigenvalues\"]\n",
    "        eigenvectors = graph_dict[\"eigenvectors\"]\n",
    "        \n",
    "        initializer_feed_dict = {initial_parameters: parameter_values}\n",
    "        tf.global_variables_initializer().run(initializer_feed_dict)\n",
    "\n",
    "        batch_inputs, batch_labels = mnist.train.next_batch(hessian_calc_batch_size)\n",
    "\n",
    "        hessian_calc_feed_dict = {input: batch_inputs,\n",
    "                           labels: batch_labels}\n",
    "\n",
    "        hessian, eigenvalues, eigenvectors =  sess.run([hessian, eigenvalues, eigenvectors],\n",
    "                                                       hessian_calc_feed_dict)\n",
    "    \n",
    "    return Curvature(hessian, eigenvalues, eigenvectors)\n",
    "\n",
    "def spectrum_plot(initial_eigvals_list, final_eigvals_list, plotting_kws, tick_kws, label_kws, eps=0,\n",
    "                  xlims=None, ylims=None):\n",
    "\n",
    "    f = plt.figure(figsize=(12,12))\n",
    "\n",
    "    for initial_eigvals, final_eigvals in zip(initial_eigvals_list, final_eigvals_list):\n",
    "        sns.distplot(initial_eigvals[np.abs(initial_eigvals)>eps],\n",
    "                     color=sns.xkcd_rgb['denim blue'], label='initial', **plotting_kws);\n",
    "        sns.distplot(final_eigvals[np.abs(final_eigvals)>eps],\n",
    "                     color=sns.xkcd_rgb['pale red'], label='final', **plotting_kws);\n",
    "        \n",
    "    ax = plt.gca()\n",
    "    ax.set_yscale('log')\n",
    "    \n",
    "    if ylims is not None:\n",
    "        ax.set_ylim(ylims)\n",
    "        \n",
    "    if xlims is not None:\n",
    "        ax.set_xlim(xlims)\n",
    "        \n",
    "    #ax.xaxis.set_major_locator(matplotlib.ticker.MaxNLocator(nbins=10, integer=True))\n",
    "#     ax.yaxis.set_major_locator(matplotlib.ticker.MaxNLocator(nbins=10, integer=False))\n",
    "    \n",
    "    #ax.set_xticklabels([int(tick) for tick in ax.get_xticks()], tick_kws)\n",
    "    ax.set_xticklabels([round(tick,5) for tick in ax.get_xticks()], tick_kws)\n",
    "    ax.set_yticklabels([int(tick) for tick in ax.get_yticks()], tick_kws)\n",
    "    \n",
    "    ax.set_xlabel(r\"$\\lambda$\", **label_kws)\n",
    "    ax.set_ylabel(r\"$\\rho(\\lambda)$\", **label_kws)\n",
    "    \n",
    "    ax.legend(**label_kws);\n",
    "\n",
    "def get_initial_parameters(network):\n",
    "    \n",
    "    graph = network.graph\n",
    "    graph_dict = network.graph_dictionary\n",
    "    hyperparameter_dictionary = network.hyperparameter_dictionary\n",
    "    num_parameters = hyperparameter_dictionary[\"num_parameters\"]\n",
    "    total_weights = hyperparameter_dictionary[\"total_weights\"]\n",
    "    total_biases = hyperparameter_dictionary[\"total_biases\"]\n",
    "    \n",
    "    initialized_parameters = parameters_from_totals(total_weights, total_biases)\n",
    "    \n",
    "    return initialized_parameters\n",
    "\n",
    "def parameters_from_totals(total_weights, total_biases):\n",
    "    \n",
    "    initialized_parameters = np.hstack([0.1*np.random.standard_normal(size=total_weights),\n",
    "                                  [0.1]*total_biases]).astype(np.float32)\n",
    "    \n",
    "    return initialized_parameters"
   ]
  },
  {
   "cell_type": "code",
   "execution_count": 82,
   "metadata": {},
   "outputs": [
    {
     "name": "stdout",
     "output_type": "stream",
     "text": [
      "init values\n",
      "\tcost: 2.32\n",
      "\tgrad_norm: 0.2836883664\n",
      "grad step: 1\n",
      "\tcost: 2.32\n",
      "\tgrad_norm: 0.3153574765\n",
      "grad step: 1000\n",
      "\tcost: 0.90\n",
      "\tgrad_norm: 0.3271615505\n",
      "grad step: 2000\n",
      "\tcost: 0.54\n",
      "\tgrad_norm: 0.2524732053\n",
      "grad step: 3000\n",
      "\tcost: 0.44\n",
      "\tgrad_norm: 0.2324231714\n"
     ]
    },
    {
     "ename": "KeyboardInterrupt",
     "evalue": "",
     "output_type": "error",
     "traceback": [
      "\u001b[0;31m---------------------------------------------------------------------------\u001b[0m",
      "\u001b[0;31mKeyboardInterrupt\u001b[0m                         Traceback (most recent call last)",
      "\u001b[0;32m<ipython-input-82-9811455748d0>\u001b[0m in \u001b[0;36m<module>\u001b[0;34m()\u001b[0m\n\u001b[1;32m     16\u001b[0m \u001b[0;34m\u001b[0m\u001b[0m\n\u001b[1;32m     17\u001b[0m initial_eigvals, final_eigvals = compute_spectra(10, mnist, hyperparameters,\n\u001b[0;32m---> 18\u001b[0;31m                                                  training_parameters, hessian_calc_batch_size=10000)\n\u001b[0m",
      "\u001b[0;32m<ipython-input-81-26b763ca60de>\u001b[0m in \u001b[0;36mcompute_spectra\u001b[0;34m(num_runs, mnist, hyperparameters, training_parameters, hessian_calc_batch_size)\u001b[0m\n\u001b[1;32m      9\u001b[0m         \u001b[0minitial_parameters\u001b[0m \u001b[0;34m=\u001b[0m \u001b[0mget_initial_parameters\u001b[0m\u001b[0;34m(\u001b[0m\u001b[0mnetwork\u001b[0m\u001b[0;34m)\u001b[0m\u001b[0;34m\u001b[0m\u001b[0m\n\u001b[1;32m     10\u001b[0m \u001b[0;34m\u001b[0m\u001b[0m\n\u001b[0;32m---> 11\u001b[0;31m         \u001b[0mfinal_parameters\u001b[0m \u001b[0;34m=\u001b[0m \u001b[0mtrain_network\u001b[0m\u001b[0;34m(\u001b[0m\u001b[0mnetwork\u001b[0m\u001b[0;34m,\u001b[0m \u001b[0mmnist\u001b[0m\u001b[0;34m,\u001b[0m \u001b[0minitial_parameters\u001b[0m\u001b[0;34m,\u001b[0m \u001b[0mtraining_parameters\u001b[0m\u001b[0;34m)\u001b[0m\u001b[0;34m\u001b[0m\u001b[0m\n\u001b[0m\u001b[1;32m     12\u001b[0m \u001b[0;34m\u001b[0m\u001b[0m\n\u001b[1;32m     13\u001b[0m         \u001b[0minitial_curvature\u001b[0m \u001b[0;34m=\u001b[0m \u001b[0mget_hessian_and_eigs\u001b[0m\u001b[0;34m(\u001b[0m\u001b[0mnetwork\u001b[0m\u001b[0;34m,\u001b[0m \u001b[0mmnist\u001b[0m\u001b[0;34m,\u001b[0m \u001b[0minitial_parameters\u001b[0m\u001b[0;34m,\u001b[0m \u001b[0mhessian_calc_batch_size\u001b[0m\u001b[0;34m)\u001b[0m\u001b[0;34m\u001b[0m\u001b[0m\n",
      "\u001b[0;32m<ipython-input-81-26b763ca60de>\u001b[0m in \u001b[0;36mtrain_network\u001b[0;34m(network, mnist, initial_parameters, training_parameters)\u001b[0m\n\u001b[1;32m     63\u001b[0m                 \u001b[0mprint\u001b[0m\u001b[0;34m(\u001b[0m\u001b[0;34m\"\\tgrad_norm: {0:.10f}\"\u001b[0m\u001b[0;34m.\u001b[0m\u001b[0mformat\u001b[0m\u001b[0;34m(\u001b[0m\u001b[0mgradient_norm\u001b[0m\u001b[0;34m)\u001b[0m\u001b[0;34m)\u001b[0m\u001b[0;34m\u001b[0m\u001b[0m\n\u001b[1;32m     64\u001b[0m \u001b[0;34m\u001b[0m\u001b[0m\n\u001b[0;32m---> 65\u001b[0;31m             \u001b[0mbatch_inputs\u001b[0m\u001b[0;34m,\u001b[0m \u001b[0mbatch_labels\u001b[0m \u001b[0;34m=\u001b[0m \u001b[0mmnist\u001b[0m\u001b[0;34m.\u001b[0m\u001b[0mtrain\u001b[0m\u001b[0;34m.\u001b[0m\u001b[0mnext_batch\u001b[0m\u001b[0;34m(\u001b[0m\u001b[0mgradient_descent_batch_size\u001b[0m\u001b[0;34m)\u001b[0m\u001b[0;34m\u001b[0m\u001b[0m\n\u001b[0m\u001b[1;32m     66\u001b[0m             train_feed_dict = {input: batch_inputs,\n\u001b[1;32m     67\u001b[0m                            labels: batch_labels}\n",
      "\u001b[0;32m~/venvs/tensorflow/lib/python3.4/site-packages/tensorflow/contrib/learn/python/learn/datasets/mnist.py\u001b[0m in \u001b[0;36mnext_batch\u001b[0;34m(self, batch_size, fake_data, shuffle)\u001b[0m\n\u001b[1;32m    195\u001b[0m         \u001b[0mperm\u001b[0m \u001b[0;34m=\u001b[0m \u001b[0mnumpy\u001b[0m\u001b[0;34m.\u001b[0m\u001b[0marange\u001b[0m\u001b[0;34m(\u001b[0m\u001b[0mself\u001b[0m\u001b[0;34m.\u001b[0m\u001b[0m_num_examples\u001b[0m\u001b[0;34m)\u001b[0m\u001b[0;34m\u001b[0m\u001b[0m\n\u001b[1;32m    196\u001b[0m         \u001b[0mnumpy\u001b[0m\u001b[0;34m.\u001b[0m\u001b[0mrandom\u001b[0m\u001b[0;34m.\u001b[0m\u001b[0mshuffle\u001b[0m\u001b[0;34m(\u001b[0m\u001b[0mperm\u001b[0m\u001b[0;34m)\u001b[0m\u001b[0;34m\u001b[0m\u001b[0m\n\u001b[0;32m--> 197\u001b[0;31m         \u001b[0mself\u001b[0m\u001b[0;34m.\u001b[0m\u001b[0m_images\u001b[0m \u001b[0;34m=\u001b[0m \u001b[0mself\u001b[0m\u001b[0;34m.\u001b[0m\u001b[0mimages\u001b[0m\u001b[0;34m[\u001b[0m\u001b[0mperm\u001b[0m\u001b[0;34m]\u001b[0m\u001b[0;34m\u001b[0m\u001b[0m\n\u001b[0m\u001b[1;32m    198\u001b[0m         \u001b[0mself\u001b[0m\u001b[0;34m.\u001b[0m\u001b[0m_labels\u001b[0m \u001b[0;34m=\u001b[0m \u001b[0mself\u001b[0m\u001b[0;34m.\u001b[0m\u001b[0mlabels\u001b[0m\u001b[0;34m[\u001b[0m\u001b[0mperm\u001b[0m\u001b[0;34m]\u001b[0m\u001b[0;34m\u001b[0m\u001b[0m\n\u001b[1;32m    199\u001b[0m       \u001b[0;31m# Start next epoch\u001b[0m\u001b[0;34m\u001b[0m\u001b[0;34m\u001b[0m\u001b[0m\n",
      "\u001b[0;31mKeyboardInterrupt\u001b[0m: "
     ]
    }
   ],
   "source": [
    "hyperparameters = {\"layer_sizes\":[10],\n",
    "                    \"nonlinearity\":tf.nn.relu,\n",
    "                    \"input_size\":784,\n",
    "                    \"output_size\":10,\n",
    "                    \"learning_rate\":0.01,\n",
    "                    \"newton_rate\":1e-3,\n",
    "                    \"grad_norm_learning_rate\":1e-6,\n",
    "                    \"minimum_eigenvalue_magnitude\":1e-1,\n",
    "                    \"inverse_method\": \"pseudo\"}\n",
    "\n",
    "training_parameters = {\"num_batches\" : 10000,\n",
    "                       \"print_every\" : 1000,\n",
    "                       \"tracking_batch_size\" : 1000,\n",
    "                       \"gradient_descent_batch_size\" :500,\n",
    "                      }\n",
    "\n",
    "initial_eigvals, final_eigvals = compute_spectra(10, mnist, hyperparameters,\n",
    "                                                 training_parameters, hessian_calc_batch_size=10000)"
   ]
  },
  {
   "cell_type": "code",
   "execution_count": 84,
   "metadata": {},
   "outputs": [],
   "source": [
    "def normalize_eigvals(initial_eigvals_list, final_eigvals_list):\n",
    "    normalized_initial_eigvals_list = []\n",
    "    normalized_final_eigvals_list = []\n",
    "    \n",
    "    \n",
    "    for initial_eigvals, final_eigvals in zip(initial_eigvals_list, final_eigvals_list):\n",
    "        maximum = np.max([np.max(initial_eigvals), np.max(final_eigvals)])\n",
    "        \n",
    "        normalized_initial_eigvals = np.divide(initial_eigvals, maximum)\n",
    "        normalized_final_eigvals = np.divide(final_eigvals, maximum)\n",
    "        \n",
    "        normalized_initial_eigvals_list.append(normalized_initial_eigvals)\n",
    "        normalized_final_eigvals_list.append(normalized_final_eigvals)\n",
    "    \n",
    "    return normalized_initial_eigvals_list, normalized_final_eigvals_list"
   ]
  },
  {
   "cell_type": "code",
   "execution_count": 85,
   "metadata": {},
   "outputs": [],
   "source": [
    "initial_eigvals = np.load(\"initial_eigvals_20180208.npz\")\n",
    "initial_eigvals = [initial_eigvals[key] for key in initial_eigvals.keys()]\n",
    "\n",
    "final_eigvals = np.load(\"final_eigvals_20180208.npz\")\n",
    "final_eigvals = [final_eigvals[key] for key in final_eigvals.keys()]"
   ]
  },
  {
   "cell_type": "code",
   "execution_count": 116,
   "metadata": {},
   "outputs": [
    {
     "data": {
      "image/png": "[encoded data removed]",
      "text/plain": [
       "<matplotlib.figure.Figure at 0x7fd7cc3744e0>"
      ]
     },
     "metadata": {},
     "output_type": "display_data"
    }
   ],
   "source": [
    "# bins = np.hstack([np.linspace(-0.1, -0.005, num=15),\n",
    "#                  np.linspace(-0.005,0,50),\n",
    "#                  np.linspace(1/20,1,20)])\n",
    "\n",
    "bins=50\n",
    "\n",
    "plotting_kws = {'bins':bins, 'kde':False, 'rug':False,\n",
    "                'hist_kws':{'histtype':'step', 'alpha':0.2, 'linewidth':4}}\n",
    "\n",
    "font_kws = {'fontsize': 24,}\n",
    "tick_kws = {'fontsize': 24}\n",
    "label_kws = {'fontsize': 32}\n",
    "\n",
    "normalized_initial_eigvals, normalized_final_eigvals = normalize_eigvals(initial_eigvals, final_eigvals)\n",
    "\n",
    "spectrum_plot(normalized_initial_eigvals, normalized_final_eigvals,\n",
    "              plotting_kws, tick_kws, label_kws, eps=1e-5,\n",
    "#               xlims=[-0.05, 0.05],\n",
    "              ylims=None)\n",
    "\n",
    "f = plt.gcf()"
   ]
  },
  {
   "cell_type": "code",
   "execution_count": 117,
   "metadata": {},
   "outputs": [],
   "source": [
    "f.savefig(\"eigspectrum_log.pdf\")"
   ]
  },
  {
   "cell_type": "code",
   "execution_count": 120,
   "metadata": {},
   "outputs": [
    {
     "data": {
      "image/png": "[encoded data removed]",
      "text/plain": [
       "<matplotlib.figure.Figure at 0x7fd7cc25a588>"
      ]
     },
     "metadata": {},
     "output_type": "display_data"
    }
   ],
   "source": [
    "# bins = np.hstack([np.linspace(-0.1, -0.005, num=15),\n",
    "#                  np.linspace(-0.005,0,50),\n",
    "#                  np.linspace(1/20,1,20)])\n",
    "\n",
    "bins=500\n",
    "\n",
    "plotting_kws = {'bins':bins, 'kde':False, 'rug':False,\n",
    "                'hist_kws':{'histtype':'step', 'alpha':0.15, 'linewidth':4}}\n",
    "\n",
    "font_kws = {'fontsize': 24,}\n",
    "tick_kws = {'fontsize': 24}\n",
    "label_kws = {'fontsize': 32}\n",
    "\n",
    "normalized_initial_eigvals, normalized_final_eigvals = normalize_eigvals(initial_eigvals, final_eigvals)\n",
    "\n",
    "spectrum_plot(normalized_initial_eigvals, normalized_final_eigvals,\n",
    "              plotting_kws, tick_kws, label_kws, eps=1e-50,\n",
    "              xlims=[-0.05, 0.05],\n",
    "              ylims=None)\n",
    "\n",
    "f = plt.gcf()\n",
    "f.subplots_adjust(left=0.15)"
   ]
  }
 ],
 "metadata": {
  "kernelspec": {
   "display_name": "Python 3",
   "language": "python",
   "name": "python3"
  },
  "language_info": {
   "codemirror_mode": {
    "name": "ipython",
    "version": 3
   },
   "file_extension": ".py",
   "mimetype": "text/x-python",
   "name": "python",
   "nbconvert_exporter": "python",
   "pygments_lexer": "ipython3",
   "version": "3.4.3"
  }
 },
 "nbformat": 4,
 "nbformat_minor": 2
}
