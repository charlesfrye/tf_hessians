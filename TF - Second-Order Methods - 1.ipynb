{
 "cells": [
  {
   "cell_type": "markdown",
   "metadata": {},
   "source": [
    "# Second-Order Methods in TensorFlow - Part 1"
   ]
  },
  {
   "cell_type": "markdown",
   "metadata": {},
   "source": [
    "Doing second-order methods in tensorflow is not well-supported, so it's easy to make a mistake.\n",
    "\n",
    "To get a better handle on using second-order methods for neural networks, where the ground truth is unclear or hard to calculate, I'm working through second-order methods for a case where we have ground truth: quadratic forms."
   ]
  },
  {
   "cell_type": "markdown",
   "metadata": {},
   "source": [
    "A quadratic form is a polynomial of degree two over an $n$-dimensional input. They are calculated as\n",
    "\n",
    "$$\n",
    "\\mathbf{x}^\\intercal Q \\mathbf{x}\n",
    "$$"
   ]
  },
  {
   "cell_type": "markdown",
   "metadata": {},
   "source": [
    "Below, I walk through the gradient and Hessian calculations."
   ]
  },
  {
   "cell_type": "markdown",
   "metadata": {},
   "source": [
    "This isn't a particularly interesting exercise, but it has allowed me to capture a number of bugs."
   ]
  },
  {
   "cell_type": "code",
   "execution_count": 1,
   "metadata": {},
   "outputs": [],
   "source": [
    "import tensorflow as tf\n",
    "\n",
    "import matplotlib.pyplot as plt\n",
    "\n",
    "import numpy as np\n",
    "\n",
    "import second_order"
   ]
  },
  {
   "cell_type": "markdown",
   "metadata": {},
   "source": [
    "## Testing with Identity Matrix"
   ]
  },
  {
   "cell_type": "markdown",
   "metadata": {},
   "source": [
    "The simplest case, useful for working out basic bugs and flaws in reasoning, is the identity matrix, because  the quadratic form it defines is the squared $\\ell_2$ norm:\n",
    "\n",
    "$$\n",
    "\\mathbf{x}^\\intercal I \\mathbf{x} = \\mathbf{x}^\\intercal \\mathbf{x} = \\sum_i x_i \\cdot x_i\n",
    "$$"
   ]
  },
  {
   "cell_type": "code",
   "execution_count": 2,
   "metadata": {},
   "outputs": [],
   "source": [
    "N = 2\n",
    "\n",
    "identity_matrix = np.eye(N).astype(np.float32)\n",
    "input_vector = np.sqrt([1/2,1/2]).astype(np.float32)\n",
    "\n",
    "identity_quadratic_form_graph = second_order.make_quadratic_form(identity_matrix, input_vector,\n",
    "                                                                hyperparameters=second_order.DEFAULTS)"
   ]
  },
  {
   "cell_type": "code",
   "execution_count": 3,
   "metadata": {},
   "outputs": [],
   "source": [
    "out = second_order.get_result(\"output\", input_vector, identity_quadratic_form_graph)\n",
    "\n",
    "assert np.isclose(np.sum(np.square(input_vector)), out)"
   ]
  },
  {
   "cell_type": "markdown",
   "metadata": {},
   "source": [
    "The gradient is just twice the input:\n",
    "\n",
    "$$\n",
    "\\nabla_\\mathbf{x} \\mathbf{x}^\\intercal I \\mathbf{x} = \\nabla_x \\sum_i x_i\\cdot x_i = 2\\cdot I\\cdot \\mathbf{x}\n",
    "$$"
   ]
  },
  {
   "cell_type": "code",
   "execution_count": 4,
   "metadata": {},
   "outputs": [
    {
     "data": {
      "text/plain": [
       "array([1.4142135, 1.4142135], dtype=float32)"
      ]
     },
     "execution_count": 4,
     "metadata": {},
     "output_type": "execute_result"
    }
   ],
   "source": [
    "gradient = np.squeeze(second_order.get_result(\"gradients\", input_vector, identity_quadratic_form_graph))\n",
    "\n",
    "gradient"
   ]
  },
  {
   "cell_type": "code",
   "execution_count": 5,
   "metadata": {},
   "outputs": [],
   "source": [
    "assert np.allclose(input_vector.T*2, gradient)"
   ]
  },
  {
   "cell_type": "markdown",
   "metadata": {},
   "source": [
    "The Hessian matrix is just $2\\cdot I$."
   ]
  },
  {
   "cell_type": "code",
   "execution_count": 6,
   "metadata": {},
   "outputs": [
    {
     "data": {
      "text/plain": [
       "array([[2., 0.],\n",
       "       [0., 2.]], dtype=float32)"
      ]
     },
     "execution_count": 6,
     "metadata": {},
     "output_type": "execute_result"
    }
   ],
   "source": [
    "hessian = np.squeeze(second_order.get_result(\"hessian\", input_vector, identity_quadratic_form_graph))\n",
    "\n",
    "hessian"
   ]
  },
  {
   "cell_type": "code",
   "execution_count": 7,
   "metadata": {},
   "outputs": [],
   "source": [
    "assert np.allclose(hessian, 2*np.eye(N))"
   ]
  },
  {
   "cell_type": "markdown",
   "metadata": {},
   "source": [
    "## Random Matrix"
   ]
  },
  {
   "cell_type": "markdown",
   "metadata": {},
   "source": [
    "Of course, to really ensure that our code is correct, we should test on less-symmetric problems, e.g. matrices from the Gaussian ensemble."
   ]
  },
  {
   "cell_type": "markdown",
   "metadata": {},
   "source": [
    "Generically, the gradient of $\\mathbf{x}^\\intercal Q \\mathbf{x}$ is\n",
    "\n",
    "$$\n",
    "\\nabla_\\mathbf{x} \\mathbf{x}^\\intercal Q \\mathbf{x} = (Q + Q^\\intercal)\\mathbf{x}\n",
    "$$"
   ]
  },
  {
   "cell_type": "markdown",
   "metadata": {},
   "source": [
    "Which we can get from the definition of the derivative, following\n",
    "[this derivation from StackOverflow](https://math.stackexchange.com/questions/239207/hessian-matrix-of-a-quadratic-form).\n",
    "\n",
    "Writing $f(\\mathbf{x})$ for $\\mathbf{x}^\\intercal Q \\mathbf{x}$, our goal is to find $\\nabla_\\mathbf{x}f(\\mathbf{x})$ such that\n",
    "\n",
    "$$\\begin{align}\n",
    "f(\\mathbf{x}+\\epsilon) &= f(\\mathbf{x}) + \\nabla_\\mathbf{x}f(\\mathbf{x})\\epsilon + o(\\epsilon) \\\\\n",
    "\\end{align}$$\n",
    "\n",
    "as the norm of $\\epsilon$ goes to $0$.\n",
    "We expand the left-hand side:\n",
    "\n",
    "$$\\begin{align}\n",
    "f(\\mathbf{x}+\\epsilon) &= (\\mathbf{x}+\\epsilon)^\\intercal Q (\\mathbf{x}+\\epsilon) \\\\\n",
    "&= \\mathbf{x}^\\intercal Q \\mathbf{x}\n",
    "+ \\mathbf{x}^\\intercal Q \\epsilon + \\epsilon^\\intercal Q \\mathbf{x}\n",
    "+ \\epsilon^\\intercal Q \\epsilon\n",
    "\\end{align}$$"
   ]
  },
  {
   "cell_type": "markdown",
   "metadata": {},
   "source": [
    "Using the rules for transposition and distribution, we can rewrite this as\n",
    "\n",
    "$$\\begin{align}\n",
    "f(\\mathbf{x}+\\epsilon)\n",
    "&= \\mathbf{x}^\\intercal Q \\mathbf{x}\n",
    "+ \\mathbf{x}^\\intercal Q \\epsilon + \\epsilon^\\intercal Q \\mathbf{x}\n",
    "+ \\epsilon^\\intercal Q \\epsilon \\\\\n",
    "&= \\mathbf{x}^\\intercal Q \\mathbf{x}\n",
    "+ \\mathbf{x}^\\intercal Q \\epsilon + (\\epsilon^\\intercal Q \\mathbf{x})^\\intercal\n",
    "+ \\epsilon^\\intercal Q \\epsilon \\\\\n",
    "&= \\mathbf{x}^\\intercal Q \\mathbf{x}\n",
    "+ \\mathbf{x}^\\intercal Q \\epsilon + \\mathbf{x}^\\intercal Q^\\intercal \\epsilon\n",
    "+ \\epsilon^\\intercal Q \\epsilon \\\\\n",
    "&= \\mathbf{x}^\\intercal Q \\mathbf{x}\n",
    "+ \\mathbf{x}^\\intercal (Q+Q^\\intercal) \\epsilon\n",
    "+ \\epsilon^\\intercal Q \\epsilon \\\\\n",
    "\\end{align}$$"
   ]
  },
  {
   "cell_type": "markdown",
   "metadata": {},
   "source": [
    "Comparing this to the definition of the derivative above,\n",
    "we see that we have a term $f(\\mathbf{x})$ and a term dominated by $\\epsilon$,\n",
    "leaving the middle term, sans $\\epsilon$, to be our derivative:\n",
    "\n",
    "$$\n",
    "\\nabla_\\mathbf{x} \\mathbf{x}^\\intercal Q \\mathbf{x} = \\mathbf{x}^\\intercal (Q + Q^\\intercal)\n",
    "$$"
   ]
  },
  {
   "cell_type": "markdown",
   "metadata": {},
   "source": [
    "Obviously, the Hessian is thus $Q+Q^\\intercal$."
   ]
  },
  {
   "cell_type": "code",
   "execution_count": 8,
   "metadata": {},
   "outputs": [],
   "source": [
    "N = 3\n",
    "\n",
    "random_matrix = np.random.standard_normal(size=(N,N)).astype(np.float32)\n",
    "\n",
    "input_vector = np.random.standard_normal(size=(N)).astype(np.float32)\n",
    "\n",
    "random_quadratic_form = second_order.make_quadratic_form(random_matrix, input_vector,\n",
    "                                                              second_order.DEFAULTS)\n"
   ]
  },
  {
   "cell_type": "code",
   "execution_count": 9,
   "metadata": {},
   "outputs": [
    {
     "data": {
      "text/plain": [
       "-0.26744586"
      ]
     },
     "execution_count": 9,
     "metadata": {},
     "output_type": "execute_result"
    }
   ],
   "source": [
    "out = second_order.get_result(\"output\", input_vector, random_quadratic_form)\n",
    "out"
   ]
  },
  {
   "cell_type": "code",
   "execution_count": 10,
   "metadata": {},
   "outputs": [],
   "source": [
    "assert np.isclose(out, input_vector.T.dot(random_matrix).dot(input_vector))"
   ]
  },
  {
   "cell_type": "code",
   "execution_count": 11,
   "metadata": {},
   "outputs": [
    {
     "data": {
      "text/plain": [
       "array([-1.2694671,  1.062211 ,  0.6193731], dtype=float32)"
      ]
     },
     "execution_count": 11,
     "metadata": {},
     "output_type": "execute_result"
    }
   ],
   "source": [
    "gradient = np.squeeze(second_order.get_result(\"gradients\", input_vector, random_quadratic_form))\n",
    "gradient"
   ]
  },
  {
   "cell_type": "code",
   "execution_count": 12,
   "metadata": {},
   "outputs": [],
   "source": [
    "assert np.allclose(gradient, (random_matrix+random_matrix.T).dot(input_vector).squeeze())"
   ]
  },
  {
   "cell_type": "code",
   "execution_count": 13,
   "metadata": {},
   "outputs": [
    {
     "data": {
      "text/plain": [
       "array([[-2.6165638 ,  1.5296859 ,  0.44749093],\n",
       "       [ 1.5296859 ,  0.41847938,  0.95105606],\n",
       "       [ 0.44749093,  0.95105606,  4.860975  ]], dtype=float32)"
      ]
     },
     "execution_count": 13,
     "metadata": {},
     "output_type": "execute_result"
    }
   ],
   "source": [
    "tf_hessian = second_order.get_result(\"hessian\", input_vector, random_quadratic_form)\n",
    "tf_hessian"
   ]
  },
  {
   "cell_type": "code",
   "execution_count": 14,
   "metadata": {},
   "outputs": [
    {
     "data": {
      "text/plain": [
       "array([[-2.6165638 ,  1.5296859 ,  0.44749093],\n",
       "       [ 1.5296859 ,  0.41847938,  0.95105606],\n",
       "       [ 0.44749093,  0.95105606,  4.860975  ]], dtype=float32)"
      ]
     },
     "execution_count": 14,
     "metadata": {},
     "output_type": "execute_result"
    }
   ],
   "source": [
    "true_hessian = random_matrix+random_matrix.T\n",
    "true_hessian"
   ]
  },
  {
   "cell_type": "code",
   "execution_count": 15,
   "metadata": {},
   "outputs": [],
   "source": [
    "assert np.allclose(true_hessian, tf_hessian)"
   ]
  }
 ],
 "metadata": {
  "kernelspec": {
   "display_name": "Python 3",
   "language": "python",
   "name": "python3"
  },
  "language_info": {
   "codemirror_mode": {
    "name": "ipython",
    "version": 3
   },
   "file_extension": ".py",
   "mimetype": "text/x-python",
   "name": "python",
   "nbconvert_exporter": "python",
   "pygments_lexer": "ipython3",
   "version": "3.4.3"
  }
 },
 "nbformat": 4,
 "nbformat_minor": 2
}
