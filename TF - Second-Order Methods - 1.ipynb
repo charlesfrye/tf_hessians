{
 "cells": [
  {
   "cell_type": "markdown",
   "metadata": {},
   "source": [
    "# Second-Order Methods in TensorFlow - Part 1"
   ]
  },
  {
   "cell_type": "markdown",
   "metadata": {},
   "source": [
    "Doing second-order methods in tensorflow is not well-supported, so it's easy to make a mistake.\n",
    "\n",
    "To get a better handle on using second-order methods for neural networks, where the ground truth is unclear or hard to calculate, I'm working through second-order methods for a case where we have ground truth: quadratic forms."
   ]
  },
  {
   "cell_type": "markdown",
   "metadata": {},
   "source": [
    "A quadratic form is a polynomial of degree two over an $n$-dimensional input. They are calculated as\n",
    "\n",
    "$$\n",
    "\\mathbf{x}^\\intercal Q \\mathbf{x}\n",
    "$$"
   ]
  },
  {
   "cell_type": "markdown",
   "metadata": {},
   "source": [
    "Below, I walk through the gradient and Hessian calculations."
   ]
  },
  {
   "cell_type": "code",
   "execution_count": 35,
   "metadata": {},
   "outputs": [],
   "source": [
    "import tensorflow as tf\n",
    "\n",
    "import matplotlib.pyplot as plt\n",
    "\n",
    "import numpy as np\n",
    "\n",
    "from collections import namedtuple"
   ]
  },
  {
   "cell_type": "code",
   "execution_count": 36,
   "metadata": {},
   "outputs": [],
   "source": [
    "QuadraticFormGraph = namedtuple(\"QuadraticFormGraph\", [\"graph\", \"graph_dictionary\"])"
   ]
  },
  {
   "cell_type": "code",
   "execution_count": 155,
   "metadata": {},
   "outputs": [],
   "source": [
    "def make_quadratic_form_graph(matrix):\n",
    "    assert matrix.shape[0] == matrix.shape[1], \"only square matrices can be quadratic forms\"\n",
    "    dimension = matrix.shape[0]\n",
    "    \n",
    "    graph = tf.Graph()\n",
    "    \n",
    "    with graph.as_default():\n",
    "        quadratic_form = tf.constant(matrix, name='quadratic_form')\n",
    "    \n",
    "        input_placeholder = tf.placeholder(tf.float64, shape=[dimension], name='input_elements')\n",
    "        \n",
    "        input_vector = tf.expand_dims(input_placeholder, axis=1)\n",
    "    \n",
    "        output_op = tf.squeeze(tf.matmul(input_vector,\n",
    "                                  tf.matmul(quadratic_form, input_vector),\n",
    "                                         transpose_a=True,\n",
    "                                  name='output'),\n",
    "                        name='squeezed_output')\n",
    "        \n",
    "        gradient_ops = tf.gradients(output_op, input_placeholder)\n",
    "        \n",
    "        hessian_op = tf.hessians(output_op, input_placeholder)\n",
    "        \n",
    "        graph_dictionary = {\"inputs\": input_placeholder,\n",
    "                           \"output\": output_op,\n",
    "                           \"gradients\": gradient_ops,\n",
    "                           \"hessian\": hessian_op,\n",
    "                           #\"alt_hessian\": alt_hessian_ops\n",
    "                           }\n",
    "    \n",
    "    return QuadraticFormGraph(graph, graph_dictionary)"
   ]
  },
  {
   "cell_type": "code",
   "execution_count": 156,
   "metadata": {},
   "outputs": [],
   "source": [
    "def get_result(result_key, input_vector, quadratic_form_graph):\n",
    "    \n",
    "    graph, graph_dictionary = quadratic_form_graph\n",
    "    result_op = graph_dictionary[result_key]\n",
    "    input_placeholders = graph_dictionary[\"inputs\"]\n",
    "    \n",
    "    input_feed_dict = make_feed_dict(input_placeholders, input_vector)\n",
    "    \n",
    "    result = run(graph, result_op, input_feed_dict)\n",
    "    \n",
    "    return result\n",
    "\n",
    "def run(graph, op, input_feed_dict):\n",
    "    \n",
    "    with graph.as_default():\n",
    "        with tf.Session() as sess:\n",
    "            result = sess.run(op, feed_dict = input_feed_dict)\n",
    "            \n",
    "    return result\n",
    "\n",
    "def make_feed_dict(input_placeholders, input_vector):\n",
    "    \n",
    "    feed_dict = {input_placeholders:input_vector}\n",
    "    \n",
    "    return feed_dict"
   ]
  },
  {
   "cell_type": "markdown",
   "metadata": {},
   "source": [
    "## Testing with Identity Matrix"
   ]
  },
  {
   "cell_type": "markdown",
   "metadata": {},
   "source": [
    "The simplest case, useful for working out basic bugs and flaws in reasoning, is the identity matrix, because  the quadratic form it defines is the squared $\\ell_2$ norm:\n",
    "\n",
    "$$\n",
    "\\mathbf{x}^\\intercal I \\mathbf{x} = \\mathbf{x}^\\intercal \\mathbf{x} = \\sum_i x_i \\cdot x_i\n",
    "$$"
   ]
  },
  {
   "cell_type": "code",
   "execution_count": 157,
   "metadata": {},
   "outputs": [],
   "source": [
    "N = 2\n",
    "\n",
    "identity_matrix = np.eye(N)\n",
    "\n",
    "identity_quadratic_form_graph = make_quadratic_form_graph(identity_matrix)\n",
    "\n",
    "input_vector = np.sqrt([1/2,1/2])"
   ]
  },
  {
   "cell_type": "code",
   "execution_count": 158,
   "metadata": {},
   "outputs": [],
   "source": [
    "out = get_result(\"output\", input_vector, identity_quadratic_form_graph)\n",
    "\n",
    "assert np.isclose(np.sum(np.square(input_vector)), out)"
   ]
  },
  {
   "cell_type": "markdown",
   "metadata": {},
   "source": [
    "The gradient is just twice the input:\n",
    "\n",
    "$$\n",
    "\\nabla_\\mathbf{x} \\mathbf{x}^\\intercal I \\mathbf{x} = \\nabla_x \\sum_i x_i\\cdot x_i = 2\\cdot I\\cdot \\mathbf{x}\n",
    "$$"
   ]
  },
  {
   "cell_type": "code",
   "execution_count": 159,
   "metadata": {},
   "outputs": [
    {
     "data": {
      "text/plain": [
       "array([ 1.41421356,  1.41421356])"
      ]
     },
     "execution_count": 159,
     "metadata": {},
     "output_type": "execute_result"
    }
   ],
   "source": [
    "gradient = np.squeeze(get_result(\"gradients\", input_vector, identity_quadratic_form_graph))\n",
    "\n",
    "gradient"
   ]
  },
  {
   "cell_type": "code",
   "execution_count": 160,
   "metadata": {},
   "outputs": [],
   "source": [
    "assert np.allclose(input_vector.T*2, gradient)"
   ]
  },
  {
   "cell_type": "markdown",
   "metadata": {},
   "source": [
    "The Hessian matrix is just $2\\cdot I$."
   ]
  },
  {
   "cell_type": "code",
   "execution_count": 161,
   "metadata": {},
   "outputs": [
    {
     "data": {
      "text/plain": [
       "[array([[ 2.,  0.],\n",
       "        [ 0.,  2.]])]"
      ]
     },
     "execution_count": 161,
     "metadata": {},
     "output_type": "execute_result"
    }
   ],
   "source": [
    "get_result(\"hessian\", input_vector, identity_quadratic_form_graph)"
   ]
  },
  {
   "cell_type": "code",
   "execution_count": 162,
   "metadata": {},
   "outputs": [],
   "source": [
    "assert np.allclose(hessian, 2*np.eye(N))"
   ]
  },
  {
   "cell_type": "markdown",
   "metadata": {},
   "source": [
    "## Random Matrix"
   ]
  },
  {
   "cell_type": "markdown",
   "metadata": {},
   "source": [
    "Of course, to really ensure that our code is correct, we should test on less-symmetric problems, e.g. matrices from the Gaussian ensemble."
   ]
  },
  {
   "cell_type": "markdown",
   "metadata": {},
   "source": [
    "Generically, the gradient of $\\mathbf{x}^\\intercal Q \\mathbf{x}$ is\n",
    "\n",
    "$$\n",
    "\\nabla_\\mathbf{x} \\mathbf{x}^\\intercal Q \\mathbf{x} = (Q + Q^\\intercal)\\mathbf{x}\n",
    "$$"
   ]
  },
  {
   "cell_type": "markdown",
   "metadata": {},
   "source": [
    "Which we can get from the definition of the derivative, following\n",
    "[this derivation from StackOverflow](https://math.stackexchange.com/questions/239207/hessian-matrix-of-a-quadratic-form).\n",
    "\n",
    "Writing $f(\\mathbf{x})$ for $\\mathbf{x}^\\intercal Q \\mathbf{x}$, our goal is to find $\\nabla_\\mathbf{x}f(\\mathbf{x})$ such that\n",
    "\n",
    "$$\\begin{align}\n",
    "f(\\mathbf{x}+\\epsilon) &= f(\\mathbf{x}) + \\nabla_\\mathbf{x}f(\\mathbf{x})\\epsilon + o(\\epsilon) \\\\\n",
    "\\end{align}$$\n",
    "\n",
    "as the norm of $\\epsilon$ goes to $0$.\n",
    "We expand the left-hand side:\n",
    "\n",
    "$$\\begin{align}\n",
    "f(\\mathbf{x}+\\epsilon) &= (\\mathbf{x}+\\epsilon)^\\intercal Q (\\mathbf{x}+\\epsilon) \\\\\n",
    "&= \\mathbf{x}^\\intercal Q \\mathbf{x}\n",
    "+ \\mathbf{x}^\\intercal Q \\epsilon + \\epsilon^\\intercal Q \\mathbf{x}\n",
    "+ \\epsilon^\\intercal Q \\epsilon\n",
    "\\end{align}$$"
   ]
  },
  {
   "cell_type": "markdown",
   "metadata": {},
   "source": [
    "Using the rules for transposition and distribution, we can rewrite this as\n",
    "\n",
    "$$\\begin{align}\n",
    "f(\\mathbf{x}+\\epsilon)\n",
    "&= \\mathbf{x}^\\intercal Q \\mathbf{x}\n",
    "+ \\mathbf{x}^\\intercal Q \\epsilon + \\epsilon^\\intercal Q \\mathbf{x}\n",
    "+ \\epsilon^\\intercal Q \\epsilon \\\\\n",
    "&= \\mathbf{x}^\\intercal Q \\mathbf{x}\n",
    "+ \\mathbf{x}^\\intercal Q \\epsilon + (\\epsilon^\\intercal Q \\mathbf{x})^\\intercal\n",
    "+ \\epsilon^\\intercal Q \\epsilon \\\\\n",
    "&= \\mathbf{x}^\\intercal Q \\mathbf{x}\n",
    "+ \\mathbf{x}^\\intercal Q \\epsilon + \\mathbf{x}^\\intercal Q^\\intercal \\epsilon\n",
    "+ \\epsilon^\\intercal Q \\epsilon \\\\\n",
    "&= \\mathbf{x}^\\intercal Q \\mathbf{x}\n",
    "+ \\mathbf{x}^\\intercal (Q+Q^\\intercal) \\epsilon\n",
    "+ \\epsilon^\\intercal Q \\epsilon \\\\\n",
    "\\end{align}$$"
   ]
  },
  {
   "cell_type": "markdown",
   "metadata": {},
   "source": [
    "Comparing this to the definition of the derivative above,\n",
    "we see that we have a term $f(\\mathbf{x})$ and a term dominated by $\\epsilon$,\n",
    "leaving the middle term, sans $\\epsilon$, to be our derivative:\n",
    "\n",
    "$$\n",
    "\\nabla_\\mathbf{x} \\mathbf{x}^\\intercal Q \\mathbf{x} = \\mathbf{x}^\\intercal (Q + Q^\\intercal)\n",
    "$$"
   ]
  },
  {
   "cell_type": "markdown",
   "metadata": {},
   "source": [
    "Obviously, the Hessian is thus $Q+Q^\\intercal$."
   ]
  },
  {
   "cell_type": "code",
   "execution_count": 163,
   "metadata": {},
   "outputs": [],
   "source": [
    "N = 3\n",
    "\n",
    "random_matrix = np.random.standard_normal(size=(N,N))\n",
    "\n",
    "random_quadratic_form_graph = make_quadratic_form_graph(random_matrix)\n",
    "\n",
    "input_vector = np.random.standard_normal(size=(N))"
   ]
  },
  {
   "cell_type": "code",
   "execution_count": 164,
   "metadata": {},
   "outputs": [
    {
     "data": {
      "text/plain": [
       "-0.91437031120660439"
      ]
     },
     "execution_count": 164,
     "metadata": {},
     "output_type": "execute_result"
    }
   ],
   "source": [
    "out = get_result(\"output\", input_vector, random_quadratic_form_graph)\n",
    "out"
   ]
  },
  {
   "cell_type": "code",
   "execution_count": 165,
   "metadata": {},
   "outputs": [],
   "source": [
    "assert np.isclose(out, input_vector.T @ random_matrix @ input_vector)"
   ]
  },
  {
   "cell_type": "code",
   "execution_count": 166,
   "metadata": {},
   "outputs": [
    {
     "data": {
      "text/plain": [
       "array([ 2.8263463 ,  0.50771755,  0.84111005])"
      ]
     },
     "execution_count": 166,
     "metadata": {},
     "output_type": "execute_result"
    }
   ],
   "source": [
    "gradient = np.squeeze(get_result(\"gradients\", input_vector, random_quadratic_form_graph))\n",
    "gradient"
   ]
  },
  {
   "cell_type": "code",
   "execution_count": 167,
   "metadata": {},
   "outputs": [],
   "source": [
    "assert np.allclose(gradient, np.squeeze((random_matrix+random_matrix.T) @ input_vector))"
   ]
  },
  {
   "cell_type": "markdown",
   "metadata": {},
   "source": [
    "Again, we find that `tf.hessians` gets only the diagonal elements."
   ]
  },
  {
   "cell_type": "code",
   "execution_count": 168,
   "metadata": {},
   "outputs": [
    {
     "data": {
      "text/plain": [
       "[array([[-4.19260739, -0.53689794, -1.73109465],\n",
       "        [-0.53689794, -0.23361096, -0.43265071],\n",
       "        [-1.73109465, -0.43265071,  0.29310839]])]"
      ]
     },
     "execution_count": 168,
     "metadata": {},
     "output_type": "execute_result"
    }
   ],
   "source": [
    "tf_hessian = get_result(\"hessian\", input_vector, random_quadratic_form_graph)\n",
    "tf_hessian"
   ]
  },
  {
   "cell_type": "code",
   "execution_count": 169,
   "metadata": {},
   "outputs": [
    {
     "data": {
      "text/plain": [
       "array([[-4.19260739, -0.53689794, -1.73109465],\n",
       "       [-0.53689794, -0.23361096, -0.43265071],\n",
       "       [-1.73109465, -0.43265071,  0.29310839]])"
      ]
     },
     "execution_count": 169,
     "metadata": {},
     "output_type": "execute_result"
    }
   ],
   "source": [
    "true_hessian = random_matrix+random_matrix.T\n",
    "true_hessian"
   ]
  },
  {
   "cell_type": "code",
   "execution_count": 170,
   "metadata": {},
   "outputs": [],
   "source": [
    "assert np.allclose(true_hessian, tf_hessian)"
   ]
  }
 ],
 "metadata": {
  "kernelspec": {
   "display_name": "Python (tf-nightly)",
   "language": "python",
   "name": "tf-nightly"
  },
  "language_info": {
   "codemirror_mode": {
    "name": "ipython",
    "version": 3
   },
   "file_extension": ".py",
   "mimetype": "text/x-python",
   "name": "python",
   "nbconvert_exporter": "python",
   "pygments_lexer": "ipython3",
   "version": "3.6.3"
  }
 },
 "nbformat": 4,
 "nbformat_minor": 2
}
