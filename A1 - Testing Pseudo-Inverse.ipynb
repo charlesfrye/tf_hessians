{
 "cells": [
  {
   "cell_type": "code",
   "execution_count": 16,
   "metadata": {},
   "outputs": [],
   "source": [
    "import tensorflow as tf\n",
    "\n",
    "import matplotlib.pyplot as plt\n",
    "\n",
    "import numpy as np\n",
    "\n",
    "import second_order\n",
    "\n",
    "%matplotlib inline\n",
    "\n",
    "def generate_wishart(N):\n",
    "    self_outer_product = lambda x: x.dot(x.T)\n",
    "    wishart_random_matrix = 1/N*self_outer_product(np.random.standard_normal(size=(N,1))).astype(np.float32)\n",
    "    \n",
    "    return wishart_random_matrix\n",
    "\n",
    "def generate_wigner(N):\n",
    "    base = 1/np.sqrt(2)*np.random.standard_normal(size=(N,N))\n",
    "    return base+base.T\n",
    "\n",
    "def compare_matrices(matrices, names):\n",
    "\n",
    "    f, axs = plt.subplots(1, len(matrices), figsize=(8,4))\n",
    "    \n",
    "    for matrix, ax, name in zip(matrices, axs, names):\n",
    "        ax.matshow(matrix); ax.axis('off')\n",
    "        ax.set_title(name, fontsize=16, fontweight='bold')"
   ]
  },
  {
   "cell_type": "code",
   "execution_count": 8,
   "metadata": {},
   "outputs": [],
   "source": [
    "graph = tf.Graph()\n",
    "\n",
    "with graph.as_default():\n",
    "    matrix = tf.placeholder(tf.float32, shape=[None,None])\n",
    "    eigenvalues, eigenvectors = tf.self_adjoint_eig(matrix)\n",
    "    \n",
    "    threshold = tf.placeholder(tf.float32, shape=[], name=\"eigenvalue_threshold\")\n",
    "#     keep = tf.reduce_sum(tf.cast(tf.greater_equal(eigenvalues, threshold), tf.int32))\n",
    "    keep = tf.greater_equal(tf.abs(eigenvalues), threshold, name=\"eigs_boolean_mask\")\n",
    "        \n",
    "    truncated_eigenvalues = tf.boolean_mask(eigenvalues, keep, name=\"truncated_eigenvalues\")\n",
    "    truncated_eigenvectors = tf.transpose(tf.boolean_mask(\n",
    "        tf.transpose(eigenvectors), keep, name=\"truncated_eigenvectors\"))\n",
    "    \n",
    "    inverted_eigenvalues = tf.divide(1.0, truncated_eigenvalues)\n",
    "    rescaled_eigenvectors = tf.expand_dims(inverted_eigenvalues, axis=0)*truncated_eigenvectors\n",
    "    \n",
    "    inverse_matrix = tf.matmul(truncated_eigenvectors, rescaled_eigenvectors,\n",
    "                               transpose_b=True, name=\"inverse_matrix\")"
   ]
  },
  {
   "cell_type": "code",
   "execution_count": 9,
   "metadata": {},
   "outputs": [],
   "source": [
    "N = 10\n",
    "input_matrix = generate_wigner(N)\n",
    "minimum_eigenvalue_magnitude = 1.0\n",
    "\n",
    "with tf.Session(graph=graph) as sess:\n",
    "    eigvals, eigvecs, inverted_matrix = sess.run([truncated_eigenvalues,\n",
    "                                 truncated_eigenvectors,\n",
    "                                 inverse_matrix\n",
    "                                                 ],\n",
    "                              feed_dict={matrix: input_matrix,\n",
    "                                        threshold: minimum_eigenvalue_magnitude})\n",
    "\n",
    "np_inverted_matrix = eigvecs.dot(((1/eigvals[None,:])*eigvecs).T)"
   ]
  },
  {
   "cell_type": "markdown",
   "metadata": {},
   "source": [
    "We can compare the results of applying the pseudo-inverse step via numpy and via tensorflow"
   ]
  },
  {
   "cell_type": "code",
   "execution_count": 18,
   "metadata": {},
   "outputs": [
    {
     "data": {
      "image/png": "[encoded data removed]",
      "text/plain": [
       "<matplotlib.figure.Figure at 0x7f4418a00358>"
      ]
     },
     "metadata": {},
     "output_type": "display_data"
    }
   ],
   "source": [
    "compare_matrices([np_inverted_matrix, inverted_matrix],[\"numpy: pseudo-inverse\",\n",
    "                                                       \"tf: pseudo-inverse\"])"
   ]
  },
  {
   "cell_type": "markdown",
   "metadata": {},
   "source": [
    "The pseudo-inverse $A^D$ satisfies the relation\n",
    "\n",
    "$$\n",
    "AA^D = A^DA\n",
    "$$\n",
    "\n",
    "which we can check."
   ]
  },
  {
   "cell_type": "code",
   "execution_count": 20,
   "metadata": {},
   "outputs": [
    {
     "data": {
      "image/png": "[encoded data removed]",
      "text/plain": [
       "<matplotlib.figure.Figure at 0x7f4418a6c5f8>"
      ]
     },
     "metadata": {},
     "output_type": "display_data"
    }
   ],
   "source": [
    "compare_matrices([input_matrix.dot(inverted_matrix),\n",
    "                 inverted_matrix.dot(input_matrix)],[r\"$AA^D$\",\n",
    "                                                       r\"$A^DA$\"])"
   ]
  }
 ],
 "metadata": {
  "kernelspec": {
   "display_name": "Python 3",
   "language": "python",
   "name": "python3"
  },
  "language_info": {
   "codemirror_mode": {
    "name": "ipython",
    "version": 3
   },
   "file_extension": ".py",
   "mimetype": "text/x-python",
   "name": "python",
   "nbconvert_exporter": "python",
   "pygments_lexer": "ipython3",
   "version": "3.4.3"
  }
 },
 "nbformat": 4,
 "nbformat_minor": 2
}
